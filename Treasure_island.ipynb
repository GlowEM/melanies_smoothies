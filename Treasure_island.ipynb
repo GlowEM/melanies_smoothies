{
  "nbformat": 4,
  "nbformat_minor": 0,
  "metadata": {
    "colab": {
      "provenance": [],
      "authorship_tag": "ABX9TyN9F/KdlPUEz5HaglnJyUv4",
      "include_colab_link": true
    },
    "kernelspec": {
      "name": "python3",
      "display_name": "Python 3"
    },
    "language_info": {
      "name": "python"
    }
  },
  "cells": [
    {
      "cell_type": "markdown",
      "metadata": {
        "id": "view-in-github",
        "colab_type": "text"
      },
      "source": [
        "<a href=\"https://colab.research.google.com/github/GlowEM/melanies_smoothies/blob/main/Treasure_island.ipynb\" target=\"_parent\"><img src=\"https://colab.research.google.com/assets/colab-badge.svg\" alt=\"Open In Colab\"/></a>"
      ]
    },
    {
      "cell_type": "code",
      "execution_count": 4,
      "metadata": {
        "colab": {
          "base_uri": "https://localhost:8080/",
          "height": 599
        },
        "id": "Tx5AtK8t4pU7",
        "outputId": "bfc0ad0c-29d4-484f-f6d3-62ac98c37c99"
      },
      "outputs": [
        {
          "output_type": "stream",
          "name": "stdout",
          "text": [
            "Welcome to Treasure Island. Your mission is to find the treasure!\n",
            "\n",
            "\n",
            "You ship nearly ran aground before the Capitan gave the order to drop anchor. The temple hidden on the island was nearly invisible even from the crow's nest, but\n",
            "your eyes don't miss nothin'.\n",
            "\n",
            "The Capitan, your brother, gives the order, and you and a small land party make the dive from the deck into the watery depths of the Maiden Sea. Mel, your secret\n",
            "crush, brushes your hand in a way that might not have been an accident before you take the plunge beside each other.\n",
            "\n",
            "The temple's crumbling entrace opens into a chamber that was clearly once grand. Sculptures, long since pillaged, grace the sides of the room, now only feet.\n",
            "Jagged cuts tell the story of carelessness of whomever took the spoils. Your lip trembles with emotion--you can't stand the robbery of cultural artifacts. The\n",
            "thought that they're in a stuffy museum makes your eyes start to water. Beside you, Mel bumps your shoulder. Your too proud or embarassed to look at him.\n",
            "\n",
            "Anyway, there's a hall to the left and right. Which direction do you go?\n"
          ]
        },
        {
          "output_type": "error",
          "ename": "KeyboardInterrupt",
          "evalue": "Interrupted by user",
          "traceback": [
            "\u001b[0;31m---------------------------------------------------------------------------\u001b[0m",
            "\u001b[0;31mKeyboardInterrupt\u001b[0m                         Traceback (most recent call last)",
            "\u001b[0;32m/tmp/ipython-input-2549200954.py\u001b[0m in \u001b[0;36m<cell line: 0>\u001b[0;34m()\u001b[0m\n\u001b[1;32m      9\u001b[0m \u001b[0mprint\u001b[0m\u001b[0;34m(\u001b[0m\u001b[0;34m\"\\nAnyway, there's a hall to the left and right. Which direction do you go?\"\u001b[0m\u001b[0;34m)\u001b[0m\u001b[0;34m\u001b[0m\u001b[0;34m\u001b[0m\u001b[0m\n\u001b[1;32m     10\u001b[0m \u001b[0;34m\u001b[0m\u001b[0m\n\u001b[0;32m---> 11\u001b[0;31m \u001b[0mturn1\u001b[0m \u001b[0;34m=\u001b[0m \u001b[0minput\u001b[0m\u001b[0;34m(\u001b[0m\u001b[0;34m\"     Enter 'Left' or 'Right': \"\u001b[0m\u001b[0;34m)\u001b[0m\u001b[0;34m.\u001b[0m\u001b[0mupper\u001b[0m\u001b[0;34m(\u001b[0m\u001b[0;34m)\u001b[0m\u001b[0;34m\u001b[0m\u001b[0;34m\u001b[0m\u001b[0m\n\u001b[0m\u001b[1;32m     12\u001b[0m \u001b[0;34m\u001b[0m\u001b[0m\n\u001b[1;32m     13\u001b[0m \u001b[0;32mif\u001b[0m \u001b[0mturn1\u001b[0m \u001b[0;34m==\u001b[0m \u001b[0;34m\"RIGHT\"\u001b[0m\u001b[0;34m:\u001b[0m\u001b[0;34m\u001b[0m\u001b[0;34m\u001b[0m\u001b[0m\n",
            "\u001b[0;32m/usr/local/lib/python3.12/dist-packages/ipykernel/kernelbase.py\u001b[0m in \u001b[0;36mraw_input\u001b[0;34m(self, prompt)\u001b[0m\n\u001b[1;32m   1175\u001b[0m                 \u001b[0;34m\"raw_input was called, but this frontend does not support input requests.\"\u001b[0m\u001b[0;34m\u001b[0m\u001b[0;34m\u001b[0m\u001b[0m\n\u001b[1;32m   1176\u001b[0m             )\n\u001b[0;32m-> 1177\u001b[0;31m         return self._input_request(\n\u001b[0m\u001b[1;32m   1178\u001b[0m             \u001b[0mstr\u001b[0m\u001b[0;34m(\u001b[0m\u001b[0mprompt\u001b[0m\u001b[0;34m)\u001b[0m\u001b[0;34m,\u001b[0m\u001b[0;34m\u001b[0m\u001b[0;34m\u001b[0m\u001b[0m\n\u001b[1;32m   1179\u001b[0m             \u001b[0mself\u001b[0m\u001b[0;34m.\u001b[0m\u001b[0m_parent_ident\u001b[0m\u001b[0;34m[\u001b[0m\u001b[0;34m\"shell\"\u001b[0m\u001b[0;34m]\u001b[0m\u001b[0;34m,\u001b[0m\u001b[0;34m\u001b[0m\u001b[0;34m\u001b[0m\u001b[0m\n",
            "\u001b[0;32m/usr/local/lib/python3.12/dist-packages/ipykernel/kernelbase.py\u001b[0m in \u001b[0;36m_input_request\u001b[0;34m(self, prompt, ident, parent, password)\u001b[0m\n\u001b[1;32m   1217\u001b[0m             \u001b[0;32mexcept\u001b[0m \u001b[0mKeyboardInterrupt\u001b[0m\u001b[0;34m:\u001b[0m\u001b[0;34m\u001b[0m\u001b[0;34m\u001b[0m\u001b[0m\n\u001b[1;32m   1218\u001b[0m                 \u001b[0;31m# re-raise KeyboardInterrupt, to truncate traceback\u001b[0m\u001b[0;34m\u001b[0m\u001b[0;34m\u001b[0m\u001b[0m\n\u001b[0;32m-> 1219\u001b[0;31m                 \u001b[0;32mraise\u001b[0m \u001b[0mKeyboardInterrupt\u001b[0m\u001b[0;34m(\u001b[0m\u001b[0;34m\"Interrupted by user\"\u001b[0m\u001b[0;34m)\u001b[0m \u001b[0;32mfrom\u001b[0m \u001b[0;32mNone\u001b[0m\u001b[0;34m\u001b[0m\u001b[0;34m\u001b[0m\u001b[0m\n\u001b[0m\u001b[1;32m   1220\u001b[0m             \u001b[0;32mexcept\u001b[0m \u001b[0mException\u001b[0m\u001b[0;34m:\u001b[0m\u001b[0;34m\u001b[0m\u001b[0;34m\u001b[0m\u001b[0m\n\u001b[1;32m   1221\u001b[0m                 \u001b[0mself\u001b[0m\u001b[0;34m.\u001b[0m\u001b[0mlog\u001b[0m\u001b[0;34m.\u001b[0m\u001b[0mwarning\u001b[0m\u001b[0;34m(\u001b[0m\u001b[0;34m\"Invalid Message:\"\u001b[0m\u001b[0;34m,\u001b[0m \u001b[0mexc_info\u001b[0m\u001b[0;34m=\u001b[0m\u001b[0;32mTrue\u001b[0m\u001b[0;34m)\u001b[0m\u001b[0;34m\u001b[0m\u001b[0;34m\u001b[0m\u001b[0m\n",
            "\u001b[0;31mKeyboardInterrupt\u001b[0m: Interrupted by user"
          ]
        }
      ],
      "source": [
        "# Final Project - Choose your own adventure!\n",
        "\n",
        "print(\"Welcome to Treasure Island. Your mission is to find the treasure!\")\n",
        "\n",
        "print(\"\\n\\nYou ship nearly ran aground before the Capitan gave the order to drop anchor. The temple hidden on the island was nearly invisible even from the crow's nest, but\\nyour eyes don't miss nothin'.\")\n",
        "print(\"\\nThe Capitan, your brother, gives the order, and you and a small land party make the dive from the deck into the watery depths of the Maiden Sea. Mel, your secret\\ncrush, brushes your hand in a way that might not have been an accident before you take the plunge beside each other.\")\n",
        "\n",
        "print(\"\\nThe temple's crumbling entrace opens into a chamber that was clearly once grand. Sculptures, long since pillaged, grace the sides of the room, now only feet.\\nJagged cuts tell the story of carelessness of whomever took the spoils. Your lip trembles with emotion--you can't stand the robbery of cultural artifacts. The\\nthought that they're in a stuffy museum makes your eyes start to water. Beside you, Mel bumps your shoulder. Your too proud or embarassed to look at him.\")\n",
        "print(\"\\nAnyway, there's a hall to the left and right. Which direction do you go?\")\n",
        "\n",
        "turn1 = input(\"     Enter 'Left' or 'Right': \").upper()\n",
        "\n",
        "if turn1 == \"RIGHT\":\n",
        "  print(\"\\n\\nYou declare to your party that you should go to the right. You can almost hear the air leave the room. That's right...Mel hates going right. It's a\\nsuperstition--or maybe Mel's just strange. Either way, his once soft eye turn stony.\\n\\\"So that's how you feel, huh?\\\" he mutters, before stomping off to the left.\\nYou suspect you no longer have a date to the Pirates Ball.\\n\\n\\nGAME OVER\\n(Also, you never found the treasure or whatever.)\")\n",
        "elif turn1 == \"LEFT\":\n",
        "  print(\"\\nYou decide to go left, and your party follows unquestioningly. Your fellow men--Mel and those other guys--and you have bonded over many such an adventure,\\nand they trust your instincts.\")\n",
        "  print(\"\\nYou pick your way through the hall, dodging traps (did you really dodge them, or had they all be set off by the multitude of skelletons you see peppered with\\narrows and darts that line the hall?), before you come to another room.\")\n",
        "  print(\"\\nThis room is large, with small chambers lining the walls, and benches in front of them. You immediately know it was once a locker room. Unconsciously, your\\neyes find Mel's and his lips quirk up into a smile. Oh no! Does he know what you were just thinking? Your cheecks start to flush warm, and you quickly make yourself\\nbusy investigating what the other entrance to the room leads to.\")\n",
        "  print(\"\\n\\nYour suprised to find an inground swimming pool filled with--it couldn't be, could it?--clorinated water. If the sea is your true love, swimming pools are\\nyour mistress. Your bones seem to ache with the desire to feel the chorine leeching moisture from your skin. What do you do?\")\n",
        "\n",
        "  turn2 = input(\"     Enter 'Swim' to take a dip or 'Wait' to see what your party decides: \").upper()\n",
        "\n",
        "  if turn2 == \"SWIM\":\n",
        "    print(\"\\n\\nNo you moron! If you'd waited you might have gotten to see Mel take his shirt off before he jumped in the water. You have that thought, and inhale on a gasp\\nreflexively. Unfortunately, you were still underwater. Since you didn't wait your whole party is still in the ancient locker room, and they don't find you until\\nyou've already drowned.\")\n",
        "    print(\"\\nMel cries at your funeral, but it's in your brother's arms. He always said he would get the treasure in the end, and it looks like he's right.\\n\\n\\nGAME OVER\")\n",
        "  elif turn2 == \"WAIT\":\n",
        "    print(\"\\n\\nYou ate a snack between coming ashore and finding the locker room, so you know you have to wait another 20 minutes before you can swim or risk a cramp. You\\nwander back to the locker room, blush now under control, to see how your party is fairing.\")\n",
        "    print(\"\\nYour party has taken notice of three lockers. How did you not notice them when you were in the room before? Or you would think that if you didn't have the image\\nof Mel's smile burnt into your eyes like you'd stared directly at the sun.\")\n",
        "    print(\"\\nThe lockers, you note, have colored metal doors, a stark contrast to the carved stone cubbies that adorn the rest of the room. One red, one blue, one yellow.\\nSurely the treasure you scoured the ocean for must be behind one of these doors. But which one?\")\n",
        "    print(\"\\nMel's long fingers drum against the blue door, as though he's testing it. It rattles noisily. The other deckhands in your party are probably doing stuff to the\\nother doors, but you only have eyes for Mel.\")\n",
        "    print(\"\\n\\\"What will it be, boss?\\\" Mel turns to you with an intensity in his gaze. You know that which door you pick will determine more that just if you find the treasure.\\nWhich locker do you open?\")\n",
        "\n",
        "    turn3 = input(\"     Enter 'Red', 'Yellow', or 'Blue': \").upper()\n",
        "\n",
        "    if turn3 == \"RED\":\n",
        "      print(\"\\n\\nThis was the wrong answer. I've gotta hurry this up, so that's all your getting. You'll never know if you and Mel adopt a orphaned pirate and teach him a\\nlife on the open sea, or if you'll even kiss some day. Sucks to suck.\\n\\n\\nGAME OVER\")\n",
        "    elif turn3 == \"BLUE\":\n",
        "      print(\"\\n\\n\\\"Blue,\\\" you say confidently, staring into Mel's own baby blues. His fingers drop from the locker and the sudden absence of sound seems louder than anything\\nyou could imagine.\")\n",
        "      print(\"\\nFor a long moment, there's nothing before Mel shatter's it:\")\n",
        "      print(\"\\n\\\"I thought you'd never ask,\\\" he says, surging to meet you where you are. You kiss what could have been seconds or could have been hours--based on the\\nuncomfortable looks you get from the rest of your party when you remember they exist, it was probably the later. You and Mel excuse yourselves and retire back to\\nthe ship.\")\n",
        "      print(\"\\nYou're not sure if the rest of the party finds the treasure or not, but it doesn't matter: you found your treasuzxdcs bnre.\\n\\n\\nTHE END\")\n",
        "    elif turn3 == \"YELLOW\":\n",
        "      print(\"\\nYou want to say blue. You really think about it. But at the last moment, you don't. It's too forward. What if Mel doesn't return your feelings.\")\n",
        "      print(\"\\n\\\"Yellow,\\\" you say with just a sliver of hesitation, your eyes flitting away from Mel's, but not fast enough to see his expression start to change. You look\\nat the ground, but repeat yourself, unwilling to go back, \\\"Yellow.\\\"\")\n",
        "      print(\"\\nYour party--do you even think of them as individuals, their voices all blur together--clamber over to your side and clap you on the back. Your body reacts to\\nthe thump and you stumble forward a step, but you don't really feel it. You bite your tongue and force a confident face to hide your cowardice.\")\n",
        "      print(\"\\n\\\"Let's get this open, then,\\\" you crack your knuckles and approach the yellow door. Before you can even reach for the combination lock, you thump your palm\\nagainst the door and it springs open.\")\n",
        "      print(\"\\nWave after wave of pirate treasure tumble out of the locker and pool at your feet. You smile automatically, but your heart hurts. Is gold worth what you gave\\nup? A lifetime of happiness you and Mel could share? Or maybe all's not lost, you look to where Mel is but before you can even try to find his face, you realize he\\nhasn't approached the mass of gold.\")\n",
        "      print(\"\\nYou swallow hard, and kneel down to pick up an armful of gold. You hope the glimmer in your eyes can be mistaken for excitement.\")\n",
        "      print(\"\\n\\\"Let's haul all this back to the ship, then,\\\" you raise a fist full of jeweled necklaces into the air, \\\"We've got a hospital to fund!\\\"\\n\\n\\nTHE END\")\n",
        "      print(\"That Eveninig: Back at the ship, your brother-Capitan decideds to stay the evening on the isle. The crew it taking the evening in celebration, and you're sure\\nthe decks will be sticky with spilled rum by the time you set sail tomorrow. But you're not in a mood for celebration.\")\n",
        "      print(\"\\nYou escaped back to your cabin the moment your brother let go of your shoulder, and are nursing a bottle of rose you'd picked up the last time you'd been in\\nport. You're glad the combo Child Orphanage & Hospital you and your brother had been raised in after your pirate mother succumbed to her curse will be getting\\nit's much needed reservations, but you can't help but mourn what you might have missed out on.\")\n",
        "      print(\"\\nYour melancholy is nearly so loud you don't hear the squeak of floorboards outside your door. You stand, setting the bottle of wine down on your small table,\\nand wrench open the door quickly. You may not want to see anyone, but your brother's cabin--where the bulk of the treasure is under lock and key--is just next\\ndoor, and you won't have that treasure be lost too.\")\n",
        "      print(\"\\nFor a moment, you can't make sense of what's before you. A man with black hair touseled skyward by ocean salt seems to be scrambling away. But not from your\\nbrother's door--from yours. The strong scent of whiskey--not rum, how unusual on this ship, and you would know who it was even without your sight--accompanies\\nthe splash of liquid that lands all over the man's chest and the ground.\")\n",
        "      print(\"\\n\\\"Mel?\\\" you ask, not quite believing it could be true.\")\n",
        "      print(\"\\nYou watch in his eyes as a descision is made, and after a nervous laugh he manages, \\\"I was really hoping you would say blue.\\\"\")\n",
        "      print(\"\\nSomething weighty and dark in your chest seems to evaporate in a sudden burst.\")\n",
        "      print(\"\\nYou choke out a laugh that doesn't quite seem casual, and give him a long look, \\\"Is that so, Melanie Jr?\\\"\")\n",
        "      print(\"\\nMel grins back at you, and takes a step forward. Maybe you found the real treasure after all.\")\n",
        "    else:\n",
        "      print(\"\\nFor real man? I already wrote this whole thing and you want a fourth option? Well jokes on you. You die alone, without treasure. GAME OVER.\")\n",
        "  else:\n",
        "    print(\"\\nThere's no third option. You die alone, without treasure. GAME OVER.\")\n",
        "else:\n",
        "  print(\"\\nThere's no third option. You die alone, without treasure. GAME OVER.\")\n"
      ]
    }
  ]
}